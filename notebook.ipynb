{
 "cells": [
  {
   "cell_type": "code",
   "execution_count": 1,
   "id": "411601c2",
   "metadata": {},
   "outputs": [],
   "source": [
    "class Question:\n",
    "    \"\"\"Question on a questionnaire.\"\"\"\n",
    "\n",
    "    def __init__(self, question, choices=None, allow_text=False):\n",
    "        \"\"\"Create question (assume Yes/No for choices.\"\"\"\n",
    "\n",
    "        if not choices:\n",
    "            choices = [\"Yes\", \"No\"]\n",
    "\n",
    "        self.question = question\n",
    "        self.choices = choices\n",
    "        self.allow_text = allow_text\n",
    "\n",
    "\n",
    "class Survey:\n",
    "    \"\"\"Questionnaire.\"\"\"\n",
    "\n",
    "    def __init__(self, title, instructions, questions):\n",
    "        \"\"\"Create questionnaire.\"\"\"\n",
    "\n",
    "        self.title = title\n",
    "        self.instructions = instructions\n",
    "        self.questions = questions\n",
    "\n",
    "\n",
    "satisfaction_survey = Survey(\n",
    "    \"Customer Satisfaction Survey\",\n",
    "    \"Please fill out a survey about your experience with us.\",\n",
    "    [\n",
    "        Question(\"Have you shopped here before?\"),\n",
    "        Question(\"Did someone else shop with you today?\"),\n",
    "        Question(\"On average, how much do you spend a month on frisbees?\",\n",
    "                 [\"Less than $10,000\", \"$10,000 or more\"]),\n",
    "        Question(\"Are you likely to shop here again?\"),\n",
    "    ])\n",
    "\n",
    "personality_quiz = Survey(\n",
    "    \"Rithm Personality Test\",\n",
    "    \"Learn more about yourself with our personality quiz!\",\n",
    "    [\n",
    "        Question(\"Do you ever dream about code?\"),\n",
    "        Question(\"Do you ever have nightmares about code?\"),\n",
    "        Question(\"Do you prefer porcupines or hedgehogs?\",\n",
    "                 [\"Porcupines\", \"Hedgehogs\"]),\n",
    "        Question(\"Which is the worst function name, and why?\",\n",
    "                 [\"do_stuff()\", \"run_me()\", \"wtf()\"],\n",
    "                 allow_text=True),\n",
    "    ]\n",
    ")\n",
    "\n",
    "surveys = {\n",
    "    \"satisfaction\": satisfaction_survey,\n",
    "    \"personality\": personality_quiz,\n",
    "}"
   ]
  },
  {
   "cell_type": "code",
   "execution_count": 17,
   "id": "1e1e3e80",
   "metadata": {},
   "outputs": [
    {
     "data": {
      "text/plain": [
       "[<__main__.Question at 0x7fbe598d7510>,\n",
       " <__main__.Question at 0x7fbe598d72d0>,\n",
       " <__main__.Question at 0x7fbe598d7390>,\n",
       " <__main__.Question at 0x7fbe598d7210>]"
      ]
     },
     "execution_count": 17,
     "metadata": {},
     "output_type": "execute_result"
    }
   ],
   "source": [
    "satisfaction_survey.title\n",
    "satisfaction_survey.instructions\n",
    "satisfaction_survey.questions"
   ]
  },
  {
   "cell_type": "code",
   "execution_count": 23,
   "id": "babd5753",
   "metadata": {
    "scrolled": true
   },
   "outputs": [],
   "source": [
    "# /question/<int:query_id> "
   ]
  },
  {
   "cell_type": "code",
   "execution_count": 35,
   "id": "faa590c1",
   "metadata": {},
   "outputs": [
    {
     "data": {
      "text/plain": [
       "['Yes', 'No']"
      ]
     },
     "execution_count": 35,
     "metadata": {},
     "output_type": "execute_result"
    }
   ],
   "source": [
    "question = Question('Do you ever dream about code?') \n",
    "question.question\n",
    "question.choices\n"
   ]
  }
 ],
 "metadata": {
  "kernelspec": {
   "display_name": "Python 3",
   "language": "python",
   "name": "python3"
  },
  "language_info": {
   "codemirror_mode": {
    "name": "ipython",
    "version": 3
   },
   "file_extension": ".py",
   "mimetype": "text/x-python",
   "name": "python",
   "nbconvert_exporter": "python",
   "pygments_lexer": "ipython3",
   "version": "3.7.9"
  }
 },
 "nbformat": 4,
 "nbformat_minor": 5
}
